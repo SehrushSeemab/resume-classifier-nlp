{
  "nbformat": 4,
  "nbformat_minor": 0,
  "metadata": {
    "colab": {
      "provenance": []
    },
    "kernelspec": {
      "name": "python3",
      "display_name": "Python 3"
    },
    "language_info": {
      "name": "python"
    }
  },
  "cells": [
    {
      "cell_type": "code",
      "source": [
        "import pandas as pd\n",
        "import re\n",
        "import nltk\n",
        "from nltk.corpus import stopwords\n",
        "\n",
        "nltk.download('stopwords')\n",
        "stop_words = set(stopwords.words('english'))"
      ],
      "metadata": {
        "colab": {
          "base_uri": "https://localhost:8080/"
        },
        "id": "cSgNztbAaovJ",
        "outputId": "e06c8c43-6237-4951-8938-883fbd4f5ee1"
      },
      "execution_count": null,
      "outputs": [
        {
          "output_type": "stream",
          "name": "stderr",
          "text": [
            "[nltk_data] Downloading package stopwords to /root/nltk_data...\n",
            "[nltk_data]   Unzipping corpora/stopwords.zip.\n"
          ]
        }
      ]
    },
    {
      "cell_type": "code",
      "source": [
        "# Load dataset CSV (put the CSV inside data/ folder)\n",
        "data_path = '/content/drive/MyDrive/MISC/resume_dataset.csv'\n",
        "\n",
        "df = pd.read_csv(data_path)"
      ],
      "metadata": {
        "id": "RVcbxhfNavUm"
      },
      "execution_count": null,
      "outputs": []
    },
    {
      "cell_type": "code",
      "execution_count": null,
      "metadata": {
        "colab": {
          "base_uri": "https://localhost:8080/"
        },
        "id": "94XWJSNbCXyB",
        "outputId": "0b861160-bf80-4c66-f584-7dfbb8ac0146"
      },
      "outputs": [
        {
          "output_type": "stream",
          "name": "stdout",
          "text": [
            "Dataset shape: (13389, 2)\n"
          ]
        }
      ],
      "source": [
        "# Basic info\n",
        "print(\"Dataset shape:\", df.shape)"
      ]
    },
    {
      "cell_type": "code",
      "source": [
        "print(\"Columns:\", df.columns)"
      ],
      "metadata": {
        "colab": {
          "base_uri": "https://localhost:8080/"
        },
        "id": "l2R9FVfKbFtw",
        "outputId": "141ab1b9-cee4-4576-c20c-c3becf2a886f"
      },
      "execution_count": null,
      "outputs": [
        {
          "output_type": "stream",
          "name": "stdout",
          "text": [
            "Columns: Index(['Category', 'Text'], dtype='object')\n"
          ]
        }
      ]
    },
    {
      "cell_type": "code",
      "source": [
        "print(df.head())"
      ],
      "metadata": {
        "colab": {
          "base_uri": "https://localhost:8080/"
        },
        "id": "5q2-CYKbbTg8",
        "outputId": "68f7b93b-6b3e-4495-e875-714d852d77df"
      },
      "execution_count": null,
      "outputs": [
        {
          "output_type": "stream",
          "name": "stdout",
          "text": [
            "     Category                                               Text\n",
            "0  Accountant  ﻿________________\\r\\n\\r\\nEDUCATION\\r\\nOMBA - E...\n",
            "1  Accountant  ﻿________________\\r\\n\\r\\nHOWARD GERRARD\\r\\nAcc...\n",
            "2  Accountant  ﻿________________\\r\\n\\r\\nKevin Frank\\r\\nSENIOR...\n",
            "3  Accountant  ﻿________________\\r\\n\\r\\nPlace of birth\\r\\nNat...\n",
            "4  Accountant  ﻿________________\\r\\n\\r\\nStephen Greet, CPA\\r\\...\n"
          ]
        }
      ]
    },
    {
      "cell_type": "code",
      "source": [
        "# Check job title distribution\n",
        "print(df['Category'].value_counts())"
      ],
      "metadata": {
        "colab": {
          "base_uri": "https://localhost:8080/"
        },
        "id": "4MT8g8W8bHbA",
        "outputId": "1079b0f8-4a58-4a26-b92e-4d42f539daba"
      },
      "execution_count": null,
      "outputs": [
        {
          "output_type": "stream",
          "name": "stdout",
          "text": [
            "Category\n",
            "Education                    410\n",
            "Electrical Engineering       384\n",
            "Mechanical Engineer          384\n",
            "Consultant                   368\n",
            "Sales                        364\n",
            "Civil Engineer               364\n",
            "Management                   361\n",
            "Human Resources              360\n",
            "Digital Media                358\n",
            "Accountant                   350\n",
            "Java Developer               348\n",
            "Operations Manager           345\n",
            "Building and Construction    345\n",
            "Testing                      344\n",
            "Architecture                 344\n",
            "Aviation                     340\n",
            "Business Analyst             340\n",
            "Finance                      339\n",
            "SQL Developer                338\n",
            "Public Relations             337\n",
            "Health and Fitness           332\n",
            "Arts                         332\n",
            "Network Security Engineer    330\n",
            "DotNet Developer             329\n",
            "Apparel                      320\n",
            "Banking                      314\n",
            "Automobile                   313\n",
            "Web Designing                309\n",
            "SAP Developer                304\n",
            "Data Science                 299\n",
            "ETL Developer                294\n",
            "Agriculture                  293\n",
            "Advocate                     291\n",
            "DevOps                       289\n",
            "PMO                          286\n",
            "Information Technology       274\n",
            "Designing                    258\n",
            "Database                     257\n",
            "Python Developer             248\n",
            "BPO                          203\n",
            "React Developer              182\n",
            "Food and Beverages           162\n",
            "Blockchain                    47\n",
            "Name: count, dtype: int64\n"
          ]
        }
      ]
    },
    {
      "cell_type": "code",
      "source": [
        "\n",
        "# Quick stats\n",
        "print(df.describe())"
      ],
      "metadata": {
        "colab": {
          "base_uri": "https://localhost:8080/"
        },
        "id": "OC2wQjXIbKVq",
        "outputId": "bc51189f-8e6c-436f-9947-36602ba0b425"
      },
      "execution_count": null,
      "outputs": [
        {
          "output_type": "stream",
          "name": "stdout",
          "text": [
            "         Category                                               Text\n",
            "count       13389                                              13389\n",
            "unique         43                                              12175\n",
            "top     Education  ﻿________________\\r\\n\\r\\nJUSTIN BAUMGARTER\\r\\n...\n",
            "freq          410                                                  5\n"
          ]
        }
      ]
    },
    {
      "cell_type": "code",
      "source": [
        "# 02_data_cleaning_preprocessing.ipynb\n",
        "import re\n",
        "\n",
        "# Define stopwords (if not already)\n",
        "import nltk\n",
        "from nltk.corpus import stopwords\n",
        "nltk.download('stopwords')\n",
        "stop_words = set(stopwords.words('english'))\n",
        "\n",
        "def clean_text(text):\n",
        "    # Lowercase\n",
        "    text = text.lower()\n",
        "    # Remove special characters and digits\n",
        "    text = re.sub(r'[^a-zA-Z\\s]', '', text)\n",
        "    # Remove extra whitespace\n",
        "    text = re.sub(r'\\s+', ' ', text).strip()\n",
        "    # Remove stopwords\n",
        "    tokens = text.split()\n",
        "    tokens = [word for word in tokens if word not in stop_words]\n",
        "    return ' '.join(tokens)\n",
        "\n",
        "# Apply cleaning to resume text column (which is named 'Text')\n",
        "df['Cleaned_Resume'] = df['Text'].apply(clean_text)\n",
        "\n",
        "# Preview cleaned text\n",
        "print(df[['Text', 'Cleaned_Resume']].head())\n",
        "\n",
        "# Save cleaned data\n",
        "df.to_csv('/content/drive/MyDrive/MISC/resume_cleaned.csv', index=False)\n"
      ],
      "metadata": {
        "colab": {
          "base_uri": "https://localhost:8080/"
        },
        "id": "eTWrxvl6VDWL",
        "outputId": "e8553c60-24ba-4a47-a53f-cff6d6370992"
      },
      "execution_count": null,
      "outputs": [
        {
          "output_type": "stream",
          "name": "stderr",
          "text": [
            "[nltk_data] Downloading package stopwords to /root/nltk_data...\n",
            "[nltk_data]   Package stopwords is already up-to-date!\n"
          ]
        },
        {
          "output_type": "stream",
          "name": "stdout",
          "text": [
            "                                                Text  \\\n",
            "0  ﻿________________\\r\\n\\r\\nEDUCATION\\r\\nOMBA - E...   \n",
            "1  ﻿________________\\r\\n\\r\\nHOWARD GERRARD\\r\\nAcc...   \n",
            "2  ﻿________________\\r\\n\\r\\nKevin Frank\\r\\nSENIOR...   \n",
            "3  ﻿________________\\r\\n\\r\\nPlace of birth\\r\\nNat...   \n",
            "4  ﻿________________\\r\\n\\r\\nStephen Greet, CPA\\r\\...   \n",
            "\n",
            "                                      Cleaned_Resume  \n",
            "0  education omba executive leadership university...  \n",
            "1  howard gerrard accountant deyjobcom birmingham...  \n",
            "2  kevin frank senior accountant inforesumekraftc...  \n",
            "3  place birth nationality olivia ogilvy accounta...  \n",
            "4  stephen greet cpa senior accountant year exper...  \n"
          ]
        }
      ]
    }
  ]
}